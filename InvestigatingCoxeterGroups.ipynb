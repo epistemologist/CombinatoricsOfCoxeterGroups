{
 "cells": [
  {
   "cell_type": "markdown",
   "id": "be74fd6e-579d-4649-9781-d9e1c1c5dd1d",
   "metadata": {},
   "source": [
    "Whenever I come across a new mathematical object, I try to see if it is implemented in [SageMath](https://www.sagemath.org/), an open-source free program that has implementations of various mathematical objects. It's a good playground to test various conjectures and get a feel for the objects that we are discussing in class. \n",
    "\n",
    "Here, since we have introduced what a Coxeter group is and since [Coxeter groups are implemented in Sage](https://doc.sagemath.org/html/en/reference/categories/sage/categories/coxeter_groups.html), we will play around with the irreducible finite Coxeter systems whose Coxeter diagrams are displayed in Fig 11.1. \n",
    "\n",
    "Note we first have the infinite families:\n",
    "\n",
    "### $A_n$\n",
    "Below, we construct the Coxeter group $A_4$:"
   ]
  },
  {
   "cell_type": "code",
   "execution_count": 1,
   "id": "fc945d89-45e3-4102-83d6-c4ea1390c648",
   "metadata": {},
   "outputs": [
    {
     "data": {
      "text/plain": [
       "Finite Coxeter group over Integer Ring with Coxeter matrix:\n",
       "[1 3 2 2]\n",
       "[3 1 3 2]\n",
       "[2 3 1 3]\n",
       "[2 2 3 1]"
      ]
     },
     "execution_count": 1,
     "metadata": {},
     "output_type": "execute_result"
    }
   ],
   "source": [
    "A4 = CoxeterGroup([\"A\", 4] )\n",
    "A4"
   ]
  },
  {
   "cell_type": "code",
   "execution_count": 2,
   "id": "e676145d-4208-44e5-b1af-f80e00ebe8c1",
   "metadata": {},
   "outputs": [
    {
     "data": {
      "text/plain": [
       "(120,\n",
       " [\n",
       "[1 0 0 0]  [-1  1  0  0]  [ 1  0  0  0]  [ 1  0  0  0]  [ 1  0  0  0]\n",
       "[0 1 0 0]  [ 0  1  0  0]  [ 1 -1  1  0]  [ 0  1  0  0]  [ 0  1  0  0]\n",
       "[0 0 1 0]  [ 0  0  1  0]  [ 0  0  1  0]  [ 0  1 -1  1]  [ 0  0  1  0]\n",
       "[0 0 0 1], [ 0  0  0  1], [ 0  0  0  1], [ 0  0  0  1], [ 0  0  1 -1],\n",
       "\n",
       "[ 0 -1  1  0]  [-1  1  0  0]  [ 1  0  0  0]  [-1  1  0  0]\n",
       "[ 1 -1  1  0]  [-1  0  1  0]  [ 1  0 -1  1]  [ 0  1  0  0]\n",
       "[ 0  0  1  0]  [ 0  0  1  0]  [ 0  1 -1  1]  [ 0  1 -1  1]\n",
       "[ 0  0  0  1], [ 0  0  0  1], [ 0  0  0  1], [ 0  0  0  1],\n",
       "\n",
       "[ 1  0  0  0]  [ 1  0  0  0]  [-1  1  0  0]  [ 1  0  0  0]\n",
       "[ 1 -1  1  0]  [ 0  1  0  0]  [ 0  1  0  0]  [ 1 -1  1  0]\n",
       "[ 1 -1  0  1]  [ 0  1  0 -1]  [ 0  0  1  0]  [ 0  0  1  0]\n",
       "[ 0  0  0  1], [ 0  0  1 -1], [ 0  0  1 -1], [ 0  0  1 -1],\n",
       "\n",
       "[ 1  0  0  0]  [ 0 -1  1  0]  [ 0  0 -1  1]  [-1  1  0  0]\n",
       "[ 0  1  0  0]  [-1  0  1  0]  [ 1  0 -1  1]  [-1  1 -1  1]\n",
       "[ 0  1 -1  1]  [ 0  0  1  0]  [ 0  1 -1  1]  [ 0  1 -1  1]\n",
       "[ 0  1 -1  0], [ 0  0  0  1], [ 0  0  0  1], [ 0  0  0  1],\n",
       "\n",
       "[ 1  0  0  0]  [ 1  0  0  0]  [ 0 -1  1  0]  [-1  1  0  0]\n",
       "[ 1  0 -1  1]  [ 1  0  0 -1]  [ 1 -1  1  0]  [-1  0  1  0]\n",
       "[ 1 -1  0  1]  [ 0  1  0 -1]  [ 1 -1  0  1]  [-1  0  0  1]\n",
       "[ 0  0  0  1], [ 0  0  1 -1], [ 0  0  0  1], [ 0  0  0  1],\n",
       "\n",
       "[-1  1  0  0]  [ 1  0  0  0]  [ 1  0  0  0]  [ 0 -1  1  0]\n",
       "[ 0  1  0  0]  [ 1 -1  1  0]  [ 0  1  0  0]  [ 1 -1  1  0]\n",
       "[ 0  1  0 -1]  [ 1 -1  1 -1]  [ 0  1  0 -1]  [ 0  0  1  0]\n",
       "[ 0  0  1 -1], [ 0  0  1 -1], [ 0  1 -1  0], [ 0  0  1 -1],\n",
       "\n",
       "[-1  1  0  0]  [ 1  0  0  0]  [-1  1  0  0]  [ 1  0  0  0]\n",
       "[-1  0  1  0]  [ 1  0 -1  1]  [ 0  1  0  0]  [ 1 -1  1  0]\n",
       "[ 0  0  1  0]  [ 0  1 -1  1]  [ 0  1 -1  1]  [ 1 -1  0  1]\n",
       "[ 0  0  1 -1], [ 0  1 -1  0], [ 0  1 -1  0], [ 1 -1  0  0],\n",
       "\n",
       "[ 0  0 -1  1]  [ 0  0 -1  1]  [ 0  0  0 -1]  [ 0 -1  1  0]\n",
       "[-1  1 -1  1]  [ 1  0 -1  1]  [ 1  0  0 -1]  [ 0 -1  0  1]\n",
       "[ 0  1 -1  1]  [ 1 -1  0  1]  [ 0  1  0 -1]  [ 1 -1  0  1]\n",
       "[ 0  0  0  1], [ 0  0  0  1], [ 0  0  1 -1], [ 0  0  0  1],\n",
       "\n",
       "[-1  1  0  0]  [-1  1  0  0]  [ 1  0  0  0]  [ 1  0  0  0]\n",
       "[-1  1 -1  1]  [-1  1  0 -1]  [ 1  0  0 -1]  [ 1  0  0 -1]\n",
       "[-1  0  0  1]  [ 0  1  0 -1]  [ 1 -1  1 -1]  [ 0  1  0 -1]\n",
       "[ 0  0  0  1], [ 0  0  1 -1], [ 0  0  1 -1], [ 0  1 -1  0],\n",
       "\n",
       "[ 0 -1  1  0]  [ 0 -1  1  0]  [-1  1  0  0]  [ 1  0  0  0]\n",
       "[-1  0  1  0]  [ 1 -1  1  0]  [-1  0  1  0]  [ 1  0 -1  1]\n",
       "[-1  0  0  1]  [ 1 -1  1 -1]  [-1  0  1 -1]  [ 1  0 -1  0]\n",
       "[ 0  0  0  1], [ 0  0  1 -1], [ 0  0  1 -1], [ 0  1 -1  0],\n",
       "\n",
       "[-1  1  0  0]  [ 1  0  0  0]  [ 0 -1  1  0]  [ 0  0 -1  1]\n",
       "[ 0  1  0  0]  [ 1 -1  1  0]  [-1  0  1  0]  [ 1  0 -1  1]\n",
       "[ 0  1  0 -1]  [ 1 -1  1 -1]  [ 0  0  1  0]  [ 0  1 -1  1]\n",
       "[ 0  1 -1  0], [ 1 -1  0  0], [ 0  0  1 -1], [ 0  1 -1  0],\n",
       "\n",
       "[-1  1  0  0]  [ 1  0  0  0]  [ 0 -1  1  0]  [-1  1  0  0]\n",
       "[-1  1 -1  1]  [ 1  0 -1  1]  [ 1 -1  1  0]  [-1  0  1  0]\n",
       "[ 0  1 -1  1]  [ 1 -1  0  1]  [ 1 -1  0  1]  [-1  0  0  1]\n",
       "[ 0  1 -1  0], [ 1 -1  0  0], [ 1 -1  0  0], [-1  0  0  0],\n",
       "\n",
       "[ 0  0 -1  1]  [ 0  0 -1  1]  [ 0  0  0 -1]  [ 0  0  0 -1]\n",
       "[ 0 -1  0  1]  [-1  1 -1  1]  [-1  1  0 -1]  [ 1  0  0 -1]\n",
       "[ 1 -1  0  1]  [-1  0  0  1]  [ 0  1  0 -1]  [ 1 -1  1 -1]\n",
       "[ 0  0  0  1], [ 0  0  0  1], [ 0  0  1 -1], [ 0  0  1 -1],\n",
       "\n",
       "[ 0  0  0 -1]  [ 0 -1  1  0]  [ 0 -1  1  0]  [-1  1  0  0]\n",
       "[ 1  0  0 -1]  [ 0 -1  0  1]  [ 0 -1  1 -1]  [-1  1  0 -1]\n",
       "[ 0  1  0 -1]  [-1  0  0  1]  [ 1 -1  1 -1]  [-1  0  1 -1]\n",
       "[ 0  1 -1  0], [ 0  0  0  1], [ 0  0  1 -1], [ 0  0  1 -1],\n",
       "\n",
       "[ 1  0  0  0]  [-1  1  0  0]  [ 1  0  0  0]  [ 0 -1  1  0]\n",
       "[ 1  0  0 -1]  [-1  1  0 -1]  [ 1  0  0 -1]  [-1  0  1  0]\n",
       "[ 1  0 -1  0]  [ 0  1  0 -1]  [ 1 -1  1 -1]  [-1  0  1 -1]\n",
       "[ 0  1 -1  0], [ 0  1 -1  0], [ 1 -1  0  0], [ 0  0  1 -1],\n",
       "\n",
       "[ 0  0 -1  1]  [-1  1  0  0]  [ 1  0  0  0]  [ 0 -1  1  0]\n",
       "[ 1  0 -1  1]  [-1  1 -1  1]  [ 1  0 -1  1]  [ 1 -1  1  0]\n",
       "[ 1  0 -1  0]  [-1  1 -1  0]  [ 1  0 -1  0]  [ 1 -1  1 -1]\n",
       "[ 0  1 -1  0], [ 0  1 -1  0], [ 1 -1  0  0], [ 1 -1  0  0],\n",
       "\n",
       "[-1  1  0  0]  [ 0  0 -1  1]  [ 0  0 -1  1]  [ 0 -1  1  0]\n",
       "[-1  0  1  0]  [-1  1 -1  1]  [ 1  0 -1  1]  [ 0 -1  0  1]\n",
       "[-1  0  1 -1]  [ 0  1 -1  1]  [ 1 -1  0  1]  [ 1 -1  0  1]\n",
       "[-1  0  0  0], [ 0  1 -1  0], [ 1 -1  0  0], [ 1 -1  0  0],\n",
       "\n",
       "[-1  1  0  0]  [ 0 -1  1  0]  [ 0  0 -1  1]  [ 0  0  0 -1]\n",
       "[-1  1 -1  1]  [-1  0  1  0]  [ 0 -1  0  1]  [ 0 -1  1 -1]\n",
       "[-1  0  0  1]  [-1  0  0  1]  [-1  0  0  1]  [ 1 -1  1 -1]\n",
       "[-1  0  0  0], [-1  0  0  0], [ 0  0  0  1], [ 0  0  1 -1],\n",
       "\n",
       "[ 0  0  0 -1]  [ 0  0  0 -1]  [ 0  0  0 -1]  [ 0  0  0 -1]\n",
       "[-1  1  0 -1]  [ 1  0  0 -1]  [-1  1  0 -1]  [ 1  0  0 -1]\n",
       "[-1  0  1 -1]  [ 1  0 -1  0]  [ 0  1  0 -1]  [ 1 -1  1 -1]\n",
       "[ 0  0  1 -1], [ 0  1 -1  0], [ 0  1 -1  0], [ 1 -1  0  0],\n",
       "\n",
       "[ 0 -1  1  0]  [ 0  0 -1  1]  [-1  1  0  0]  [ 1  0  0  0]\n",
       "[ 0 -1  1 -1]  [ 0  0 -1  0]  [-1  1  0 -1]  [ 1  0  0 -1]\n",
       "[-1  0  1 -1]  [ 1  0 -1  0]  [-1  1 -1  0]  [ 1  0 -1  0]\n",
       "[ 0  0  1 -1], [ 0  1 -1  0], [ 0  1 -1  0], [ 1 -1  0  0],\n",
       "\n",
       "[ 0 -1  1  0]  [-1  1  0  0]  [ 0  0 -1  1]  [ 0  0 -1  1]\n",
       "[ 0 -1  1 -1]  [-1  1  0 -1]  [-1  1 -1  1]  [ 1  0 -1  1]\n",
       "[ 1 -1  1 -1]  [-1  0  1 -1]  [-1  1 -1  0]  [ 1  0 -1  0]\n",
       "[ 1 -1  0  0], [-1  0  0  0], [ 0  1 -1  0], [ 1 -1  0  0],\n",
       "\n",
       "[ 0 -1  1  0]  [-1  1  0  0]  [ 0 -1  1  0]  [ 0  0 -1  1]\n",
       "[ 0 -1  0  1]  [-1  1 -1  1]  [-1  0  1  0]  [ 0 -1  0  1]\n",
       "[ 0 -1  0  0]  [-1  1 -1  0]  [-1  0  1 -1]  [ 1 -1  0  1]\n",
       "[ 1 -1  0  0], [-1  0  0  0], [-1  0  0  0], [ 1 -1  0  0],\n",
       "\n",
       "[ 0  0 -1  1]  [ 0 -1  1  0]  [ 0  0  0 -1]  [ 0  0  0 -1]\n",
       "[-1  1 -1  1]  [ 0 -1  0  1]  [ 0 -1  1 -1]  [ 0  0 -1  0]\n",
       "[-1  0  0  1]  [-1  0  0  1]  [-1  0  1 -1]  [ 1  0 -1  0]\n",
       "[-1  0  0  0], [-1  0  0  0], [ 0  0  1 -1], [ 0  1 -1  0],\n",
       "\n",
       "[ 0  0  0 -1]  [ 0  0  0 -1]  [ 0  0  0 -1]  [ 0  0  0 -1]\n",
       "[-1  1  0 -1]  [ 1  0  0 -1]  [ 0 -1  1 -1]  [-1  1  0 -1]\n",
       "[-1  1 -1  0]  [ 1  0 -1  0]  [ 1 -1  1 -1]  [-1  0  1 -1]\n",
       "[ 0  1 -1  0], [ 1 -1  0  0], [ 1 -1  0  0], [-1  0  0  0],\n",
       "\n",
       "[ 0  0 -1  1]  [ 0  0 -1  1]  [ 0 -1  1  0]  [-1  1  0  0]\n",
       "[ 0  0 -1  0]  [ 0  0 -1  0]  [ 0 -1  1 -1]  [-1  1  0 -1]\n",
       "[-1  1 -1  0]  [ 1  0 -1  0]  [ 0 -1  0  0]  [-1  1 -1  0]\n",
       "[ 0  1 -1  0], [ 1 -1  0  0], [ 1 -1  0  0], [-1  0  0  0],\n",
       "\n",
       "[ 0 -1  1  0]  [ 0  0 -1  1]  [ 0  0 -1  1]  [ 0 -1  1  0]\n",
       "[ 0 -1  1 -1]  [ 0 -1  0  1]  [-1  1 -1  1]  [ 0 -1  0  1]\n",
       "[-1  0  1 -1]  [ 0 -1  0  0]  [-1  1 -1  0]  [ 0 -1  0  0]\n",
       "[-1  0  0  0], [ 1 -1  0  0], [-1  0  0  0], [-1  0  0  0],\n",
       "\n",
       "[ 0  0 -1  1]  [ 0  0  0 -1]  [ 0  0  0 -1]  [ 0  0  0 -1]\n",
       "[ 0 -1  0  1]  [ 0  0 -1  0]  [ 0  0 -1  0]  [ 0 -1  1 -1]\n",
       "[-1  0  0  1]  [-1  1 -1  0]  [ 1  0 -1  0]  [ 0 -1  0  0]\n",
       "[-1  0  0  0], [ 0  1 -1  0], [ 1 -1  0  0], [ 1 -1  0  0],\n",
       "\n",
       "[ 0  0  0 -1]  [ 0  0  0 -1]  [ 0  0 -1  1]  [ 0  0 -1  1]\n",
       "[-1  1  0 -1]  [ 0 -1  1 -1]  [ 0  0 -1  0]  [ 0  0 -1  0]\n",
       "[-1  1 -1  0]  [-1  0  1 -1]  [ 0 -1  0  0]  [-1  1 -1  0]\n",
       "[-1  0  0  0], [-1  0  0  0], [ 1 -1  0  0], [-1  0  0  0],\n",
       "\n",
       "[ 0 -1  1  0]  [ 0  0 -1  1]  [ 0  0  0 -1]  [ 0  0  0 -1]\n",
       "[ 0 -1  1 -1]  [ 0 -1  0  1]  [ 0  0 -1  0]  [ 0  0 -1  0]\n",
       "[ 0 -1  0  0]  [ 0 -1  0  0]  [ 0 -1  0  0]  [-1  1 -1  0]\n",
       "[-1  0  0  0], [-1  0  0  0], [ 1 -1  0  0], [-1  0  0  0],\n",
       "\n",
       "[ 0  0  0 -1]  [ 0  0 -1  1]  [ 0  0  0 -1]\n",
       "[ 0 -1  1 -1]  [ 0  0 -1  0]  [ 0  0 -1  0]\n",
       "[ 0 -1  0  0]  [ 0 -1  0  0]  [ 0 -1  0  0]\n",
       "[-1  0  0  0], [-1  0  0  0], [-1  0  0  0]\n",
       "])"
      ]
     },
     "execution_count": 2,
     "metadata": {},
     "output_type": "execute_result"
    }
   ],
   "source": [
    "len(A4), list( A4 )"
   ]
  },
  {
   "cell_type": "markdown",
   "id": "0c3a2d95-49fe-450f-8c4b-153241840dc2",
   "metadata": {},
   "source": [
    "We have that $A_4 \\le GL_4(\\mathbb{R})$ is represented here as 120 matrices - let's count the number of elements of each order:\n",
    "\n",
    "**TECHNICAL NOTE** (i.e. note for myself to add to Sage later): here, the order of an element of a finite Coxeter group is not implemented, we lift to the ring of matrices"
   ]
  },
  {
   "cell_type": "code",
   "execution_count": 3,
   "id": "1fce07bc-0574-44f5-9a84-1bb3c86a3db3",
   "metadata": {},
   "outputs": [
    {
     "data": {
      "text/plain": [
       "Counter({4: 30, 2: 25, 5: 24, 3: 20, 6: 20, 1: 1})"
      ]
     },
     "execution_count": 3,
     "metadata": {},
     "output_type": "execute_result"
    }
   ],
   "source": [
    "from collections import Counter\n",
    "Counter( [ i.order() for i in MatrixGroup( [ i.matrix().change_ring(ZZ) for i in A4 ] ) ] )"
   ]
  },
  {
   "cell_type": "markdown",
   "id": "097bea24-6bff-48df-9d58-98e6d7b897f7",
   "metadata": {},
   "source": [
    "We read this as: \n",
    " - there are 30 elements of order 4\n",
    " - 25 elements of order 2\n",
    " - 24 elements of order 5\n",
    " - 20 elements of order 6\n",
    " - 1 element of order 1 (the identity)\n",
    "\n",
    "Note that if we look at $S_5$, we have the same counts of elements with the same orders:"
   ]
  },
  {
   "cell_type": "code",
   "execution_count": 4,
   "id": "92c2bef9-9436-486c-8d92-b157ea570d06",
   "metadata": {},
   "outputs": [
    {
     "data": {
      "text/plain": [
       "Counter({4: 30, 2: 25, 5: 24, 6: 20, 3: 20, 1: 1})"
      ]
     },
     "execution_count": 4,
     "metadata": {},
     "output_type": "execute_result"
    }
   ],
   "source": [
    "Counter([ i.order() for i in SymmetricGroup(5) ])"
   ]
  },
  {
   "cell_type": "markdown",
   "id": "0d7f6bd5-ea2a-4e05-9c44-11c9db28cba6",
   "metadata": {},
   "source": [
    "It turns out that we have that $A_n \\cong S_{n+1}  $. We can show this via Sage's interface to [GAP](https://docs.gap-system.org/), a software package specifically for working with groups. Here, we utilize the powerful [StructureDescription](https://docs.gap-system.org/doc/ref/chap39.html#X8199B74B84446971) which attempts to describe the group given to it."
   ]
  },
  {
   "cell_type": "code",
   "execution_count": 5,
   "id": "1eaa8f34-bb18-49da-9758-8dffa30495e8",
   "metadata": {
    "scrolled": true
   },
   "outputs": [
    {
     "name": "stdout",
     "output_type": "stream",
     "text": [
      "A2 ≅ S3\n",
      "A3 ≅ S4\n",
      "A4 ≅ S5\n",
      "A5 ≅ S6\n",
      "A6 ≅ S7\n",
      "A7 ≅ S8\n",
      "A8 ≅ S9\n",
      "A9 ≅ S10\n"
     ]
    }
   ],
   "source": [
    "for n in (2..9):\n",
    "    An = CoxeterGroup([\"A\", n], implementation = \"permutation\") # represent the Coxeter group internally as a permutation group\n",
    "    print(f\"A{n} ≅ {An.gap().StructureDescription()}\")"
   ]
  },
  {
   "cell_type": "markdown",
   "id": "6d5661ae-1973-412b-981d-1e3ce5e3a9b7",
   "metadata": {},
   "source": [
    "We also have the presentation: $$S_n = A_{n-1} = \\left\\langle \\; \\substack{  s_i^2 \\\\ ( s_i s_{i+1}) ^3  \\\\ (s_i s_j)^2  \\; |i-j|>1  } \\; \\right\\rangle$$"
   ]
  },
  {
   "cell_type": "markdown",
   "id": "e7d895c4-2f78-49b3-9768-cfaeb0763cb4",
   "metadata": {},
   "source": [
    "### $B_n$\n",
    "We attempt the same with the family named B:"
   ]
  },
  {
   "cell_type": "code",
   "execution_count": 6,
   "id": "6234f95d-8666-490b-8abf-0039e15fe155",
   "metadata": {},
   "outputs": [
    {
     "name": "stdout",
     "output_type": "stream",
     "text": [
      "|B2| = 8, B2 ≅ D8\n",
      "|B3| = 48, B3 ≅ C2 x S4\n",
      "|B4| = 384, B4 ≅ ((((C2 x C2 x C2) : (C2 x C2)) : C3) : C2) : C2\n",
      "|B5| = 3840, B5 ≅ C2 x ((C2 x C2 x C2 x C2) : S5)\n"
     ]
    }
   ],
   "source": [
    "for n in (2..5):\n",
    "    Bn = CoxeterGroup([\"B\", n] , implementation = \"permutation\") # represent the Coxeter group internally as a permutation group\n",
    "    print(f\"|B{n}| = {len(Bn)}, B{n} ≅ {Bn.gap().StructureDescription()}\")"
   ]
  },
  {
   "cell_type": "markdown",
   "id": "5712a7ca-1904-4e57-b8ea-1a03bac53b86",
   "metadata": {},
   "source": [
    "These groups are much more complicated - we have the following small examples.\n",
    "\n",
    "**NOTE**: In what follows (following GAP's notation) let\n",
    " - $\\mathbb{Z}_n$ be the cyclic group of order $n$ (represented in GAP as `Cn`)\n",
    " - $D_{2n}$ be the dihedral group with $|D_{2n}| = 2n$\n",
    " - $S_{n}$ be the symmetric group\n",
    " - $A \\times B$ be the direct product of two groups $A$ and $B$  (in GAP, this is denoted `A x B`)\n",
    " - $N \\rtimes H$ be the *semidirect* product of two groups where $N \\trianglelefteq H$ is normal (in GAP, this is denoted `N : H`)\n",
    "\n",
    "\n",
    "From the Coxeter graph, we have following more complicated presentation:\n",
    "\n",
    "$$B_n = \\left\\langle \\; \\substack{  s_i^2 \\\\ \\\\ (s_1 s_2)^4 \\\\  ( s_i s_{i+1}) ^3 \\; \\; i \\ne  1  \\\\ (s_i s_j)^2  \\; |i-j|>1  } \\; \\right\\rangle$$\n",
    "\n",
    "For small cases, we have the following:\n",
    "$$\\begin{array}{|c|c|c|}\n",
    "\\hline\n",
    "n=2 & |B_n| = 8 & B_n \\cong D_8 \\\\\n",
    "\\hline\n",
    "n=3 & |B_n| = 48 & B_n \\cong \\mathbb{Z}_2 \\times S_4\\\\\n",
    "\\hline\n",
    "n=4 & |B_n| = 384 & B_n \\cong (((\\mathbb{Z_2}^3 \\rtimes \\mathbb{Z}_2) \\rtimes \\mathbb{Z}_3) \\rtimes \\mathbb{Z}_2) \\rtimes \\mathbb{Z}_2 \\\\\n",
    "\\hline\n",
    "n=5 & |B_n| = 3840 & B_n \\cong \\mathbb{Z}_2 \\times \\left( Z_2^4 \\rtimes S_5 \\right) \\\\\n",
    "\\hline\n",
    "\\end{array}$$\n",
    "We can also look up the orders of these groups on the OEIS:"
   ]
  },
  {
   "cell_type": "code",
   "execution_count": 7,
   "id": "ee6fe699-6b3b-40b1-8751-c91ee355b7d3",
   "metadata": {
    "scrolled": true
   },
   "outputs": [
    {
     "data": {
      "text/plain": [
       "0: A000165: Double factorial of even numbers: (2n)!! = 2^n*n!."
      ]
     },
     "execution_count": 7,
     "metadata": {},
     "output_type": "execute_result"
    }
   ],
   "source": [
    "oeis( [ len( CoxeterGroup([\"B\", n]))  for n in [2..10] ] )"
   ]
  },
  {
   "cell_type": "markdown",
   "id": "aee862e8-1024-420d-98f1-b3e7eefa4e57",
   "metadata": {},
   "source": [
    "### $D_n$\n",
    "We now look at the infinite family $D$."
   ]
  },
  {
   "cell_type": "code",
   "execution_count": 8,
   "id": "7f11c298-f127-4706-9e08-333d5901b791",
   "metadata": {},
   "outputs": [
    {
     "name": "stdout",
     "output_type": "stream",
     "text": [
      "|D4| = 192, D4 ≅ (((C2 x C2 x C2) : (C2 x C2)) : C3) : C2\n",
      "|D5| = 1920, D5 ≅ (C2 x C2 x C2 x C2) : S5\n",
      "|D6| = 23040, D6 ≅ (C2 x C2 x C2 x C2 x C2) : S6\n",
      "|D7| = 322560, D7 ≅ (C2 x C2 x C2 x C2 x C2 x C2) : S7\n",
      "|D8| = 5160960, D8 ≅ (C2 x C2 x C2 x C2 x C2 x C2 x C2) : S8\n"
     ]
    }
   ],
   "source": [
    "for n in (4..8):\n",
    "    Dn = CoxeterGroup([\"D\", n] , implementation = \"permutation\") # represent the Coxeter group internally as a permutation group\n",
    "    print(f\"|D{n}| = {len(Dn)}, D{n} ≅ {Dn.gap().StructureDescription()}\")"
   ]
  },
  {
   "cell_type": "markdown",
   "id": "9d689dbb-5098-48f5-a137-547368a998de",
   "metadata": {},
   "source": [
    "The last entries above suggest we look at the orders of $D_n$ for larger $n$."
   ]
  },
  {
   "cell_type": "code",
   "execution_count": 9,
   "id": "47a4513c-4770-43f8-ab8a-68920a500117",
   "metadata": {},
   "outputs": [
    {
     "data": {
      "text/plain": [
       "0: A002866: a(0) = 1; for n > 0, a(n) = 2^(n-1)*n!.\n",
       "1: A032107: Number of reversible strings with n labeled beads of 2 colors.\n",
       "2: A052594: E.g.f. x(1+x-2x^2)/(1-2x)."
      ]
     },
     "execution_count": 9,
     "metadata": {},
     "output_type": "execute_result"
    }
   ],
   "source": [
    "oeis( [ len( CoxeterGroup([\"D\", n]))  for n in [4..16] ] )"
   ]
  },
  {
   "cell_type": "markdown",
   "id": "9eff9cc0-f2ee-4188-b40d-b16fceeac9a6",
   "metadata": {},
   "source": [
    "It seems that we have that $D_{n} \\cong \\mathbb{Z}_2^{n-1} \\rtimes S_n$ \n",
    "\n",
    "**QUESTION**: What is the nature of this semidirect product? i.e. what is the $ \\phi : \\mathbb{Z}_2^{n-1} \\to \\text{Aut}(S_n)$ needed here?\n",
    "\n",
    "It may be helpful to do this for the smallest case $D_4$ but I will leave this for another time..."
   ]
  },
  {
   "cell_type": "markdown",
   "id": "29a32257-af28-47e4-8f36-6c0fcf54ecb3",
   "metadata": {},
   "source": [
    "### $I_2(m)$\n",
    "These groups are a lot smaller than the ones treated above - we have that these are the dihedral groups (i.e. that  $ I_n \\cong D_{2n} $ ) "
   ]
  },
  {
   "cell_type": "code",
   "execution_count": 10,
   "id": "26efa3f4-532d-407a-b416-b5db812a35f9",
   "metadata": {},
   "outputs": [
    {
     "name": "stdout",
     "output_type": "stream",
     "text": [
      "|I4| = 8, I4 ≅ D8\n",
      "|I5| = 10, I5 ≅ D10\n",
      "|I6| = 12, I6 ≅ D12\n",
      "|I7| = 14, I7 ≅ D14\n",
      "|I8| = 16, I8 ≅ D16\n"
     ]
    }
   ],
   "source": [
    "for n in (4..8):\n",
    "    In = CoxeterGroup([\"I\", n], implementation=\"matrix\" )\n",
    "    # Represent these as matrix groups\n",
    "    matrices = [ m.matrix() for m in list(In) ]\n",
    "    gap_repr = MatrixGroup(matrices).gap().StructureDescription()\n",
    "    print(f\"|I{n}| = {len(In)}, I{n} ≅ {gap_repr}\")"
   ]
  },
  {
   "cell_type": "markdown",
   "id": "0c2aa84c-3b2d-4b9b-a120-26359912ae55",
   "metadata": {},
   "source": [
    "### Other Families\n",
    "\n",
    "We now look at the Coxeter groups coming from the remaining irreducible Coxeter diagrams. We are given the following presentation:\n",
    "\n",
    "$$ F_4 = \\left\\langle\\ \\{ r,s,t,u \\}: \\substack{ r^2, s^2, t^2, u^2 \\\\ (rs)^3, (st)^4, (tu)^3 \\\\ (rt)^2, (ru)^2, (su)^2 } \\right\\rangle  $$\n",
    "\n",
    "Is this a finite group? We show this computationally - if it is, we should be able to calculate the group's order:\n"
   ]
  },
  {
   "cell_type": "code",
   "execution_count": 11,
   "id": "36c4e1fd-e602-46cf-9530-4a9e50ea2a5b",
   "metadata": {},
   "outputs": [
    {
     "data": {
      "text/plain": [
       "1152"
      ]
     },
     "execution_count": 11,
     "metadata": {},
     "output_type": "execute_result"
    }
   ],
   "source": [
    "R.<r,s,t,u> = FreeGroup() # First construct the free group on r,s,t,u\n",
    "relations = [\n",
    "    r^2, s^2, t^2, u^2,\n",
    "    (r*s)^3, (s*t)^4, (t*u)^3,\n",
    "    (r*t)^2, (r*u)^2, (s*u)^2\n",
    "]\n",
    "len(R / relations) # Quotient R by the relations"
   ]
  },
  {
   "cell_type": "markdown",
   "id": "b4840c10-92a5-44bf-9cc0-b75fd01d99e5",
   "metadata": {},
   "source": [
    "However, note that adding one more generator makes the group infinite; the following code times out:\n",
    "\n",
    "```python\n",
    "R.<r,s,t,u,v> = FreeGroup() # First construct the free group on r,s,t,u\n",
    "relations = [\n",
    "    r^2, s^2, t^2, u^2, v^2,\n",
    "    (r*s)^3, (s*t)^4, (t*u)^3, (u*v)^3,\n",
    "    (r*t)^2, (r*u)^2, (s*u)^2\n",
    "]\n",
    "Q = R / relations\n",
    "Q.cardinality(limit=10**6)\n",
    "```"
   ]
  }
 ],
 "metadata": {
  "kernelspec": {
   "display_name": "SageMath 10.5.beta3",
   "language": "sage",
   "name": "sagemath"
  },
  "language_info": {
   "codemirror_mode": {
    "name": "ipython",
    "version": 3
   },
   "file_extension": ".py",
   "mimetype": "text/x-python",
   "name": "python",
   "nbconvert_exporter": "python",
   "pygments_lexer": "ipython3",
   "version": "3.12.3"
  }
 },
 "nbformat": 4,
 "nbformat_minor": 5
}
